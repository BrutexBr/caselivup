{
  "nbformat": 4,
  "nbformat_minor": 0,
  "metadata": {
    "colab": {
      "provenance": [],
      "authorship_tag": "ABX9TyO5JG4j4jSAy3LI4RFB/zoy",
      "include_colab_link": true
    },
    "kernelspec": {
      "name": "python3",
      "display_name": "Python 3"
    },
    "language_info": {
      "name": "python"
    }
  },
  "cells": [
    {
      "cell_type": "markdown",
      "metadata": {
        "id": "view-in-github",
        "colab_type": "text"
      },
      "source": [
        "<a href=\"https://colab.research.google.com/github/BrutexBr/caselivup/blob/main/caselivup.ipynb\" target=\"_parent\"><img src=\"https://colab.research.google.com/assets/colab-badge.svg\" alt=\"Open In Colab\"/></a>"
      ]
    },
    {
      "cell_type": "code",
      "source": [
        "!pip install xlwings==0.28.5\n",
        "import xlwings as xw\n",
        "import pandas as pd"
      ],
      "metadata": {
        "colab": {
          "base_uri": "https://localhost:8080/"
        },
        "id": "CDrV4w8E0ku8",
        "outputId": "bf57062d-4a09-49b3-ded1-e183af8264e7"
      },
      "execution_count": 1,
      "outputs": [
        {
          "output_type": "stream",
          "name": "stdout",
          "text": [
            "Collecting xlwings==0.28.5\n",
            "  Downloading xlwings-0.28.5-cp311-cp311-manylinux_2_17_x86_64.manylinux2014_x86_64.whl.metadata (5.0 kB)\n",
            "Downloading xlwings-0.28.5-cp311-cp311-manylinux_2_17_x86_64.manylinux2014_x86_64.whl (2.2 MB)\n",
            "\u001b[2K   \u001b[90m━━━━━━━━━━━━━━━━━━━━━━━━━━━━━━━━━━━━━━━━\u001b[0m \u001b[32m2.2/2.2 MB\u001b[0m \u001b[31m1.3 MB/s\u001b[0m eta \u001b[36m0:00:00\u001b[0m\n",
            "\u001b[?25hInstalling collected packages: xlwings\n",
            "Successfully installed xlwings-0.28.5\n"
          ]
        }
      ]
    },
    {
      "cell_type": "code",
      "source": [
        "df_resultados.to_excel('resultados.xlsx', index=False, engine='openpyxl')"
      ],
      "metadata": {
        "id": "K6hnHdJU04B5"
      },
      "execution_count": 5,
      "outputs": []
    },
    {
      "cell_type": "code",
      "execution_count": 3,
      "metadata": {
        "colab": {
          "base_uri": "https://localhost:8080/"
        },
        "id": "frVglIh5Xvzv",
        "outputId": "7e934d22-ea43-4d7a-9b80-6343d3faaccc"
      },
      "outputs": [
        {
          "output_type": "stream",
          "name": "stdout",
          "text": [
            "Mês 0: Clientes Ativos = 100, Lucro do mês = R$3000.00, Lucro acumulado = R$-12000.00, Probabilidade de Recompra = 0.00%\n",
            "Mês 1: Clientes Ativos = 20, Lucro do mês = R$1200.00, Lucro acumulado = R$-10800.00, Probabilidade de Recompra = 20.00%\n",
            "Mês 2: Clientes Ativos = 100, Lucro do mês = R$6000.00, Lucro acumulado = R$-4800.00, Probabilidade de Recompra = 100.00%\n",
            "Mês 3: Clientes Ativos = 100, Lucro do mês = R$6000.00, Lucro acumulado = R$1200.00, Probabilidade de Recompra = 100.00%\n",
            "Mês 4: Clientes Ativos = 100, Lucro do mês = R$6000.00, Lucro acumulado = R$7200.00, Probabilidade de Recompra = 100.00%\n",
            "Mês 5: Clientes Ativos = 100, Lucro do mês = R$6000.00, Lucro acumulado = R$13200.00, Probabilidade de Recompra = 100.00%\n",
            "Mês 6: Clientes Ativos = 100, Lucro do mês = R$6000.00, Lucro acumulado = R$19200.00, Probabilidade de Recompra = 100.00%\n",
            "Mês 7: Clientes Ativos = 100, Lucro do mês = R$6000.00, Lucro acumulado = R$25200.00, Probabilidade de Recompra = 100.00%\n",
            "Mês 8: Clientes Ativos = 100, Lucro do mês = R$6000.00, Lucro acumulado = R$31200.00, Probabilidade de Recompra = 100.00%\n",
            "Mês 9: Clientes Ativos = 100, Lucro do mês = R$6000.00, Lucro acumulado = R$37200.00, Probabilidade de Recompra = 100.00%\n",
            "Mês 10: Clientes Ativos = 5, Lucro do mês = R$300.00, Lucro acumulado = R$37500.00, Probabilidade de Recompra = 5.00%\n",
            "Mês 11: Clientes Ativos = 5, Lucro do mês = R$300.00, Lucro acumulado = R$37800.00, Probabilidade de Recompra = 5.00%\n",
            "Mês 12: Clientes Ativos = 5, Lucro do mês = R$300.00, Lucro acumulado = R$38100.00, Probabilidade de Recompra = 5.00%\n"
          ]
        }
      ],
      "source": [
        "\n",
        "\n",
        "# Parâmetros iniciais\n",
        "clientes_iniciais = 100\n",
        "CAC = 150\n",
        "ticket_primeira_compra = 100\n",
        "ticket_recompra = 200\n",
        "margem_lucro = 0.3\n",
        "prob_recompra_inicial = 0.2\n",
        "prob_recompra_fixa = 0.05\n",
        "meses_analise = 12\n",
        "\n",
        "# Custos iniciais\n",
        "custo_aquisicao_total = clientes_iniciais * CAC\n",
        "lucro_acumulado = -custo_aquisicao_total\n",
        "lucros_mensais = []\n",
        "clientes_ativos = clientes_iniciais\n",
        "\n",
        "# Mês 0: Compra inicial\n",
        "receita_primeira_compra = clientes_iniciais * ticket_primeira_compra\n",
        "lucro_primeira_compra = receita_primeira_compra * margem_lucro\n",
        "lucro_acumulado += lucro_primeira_compra\n",
        "lucros_mensais.append((0, clientes_ativos, lucro_primeira_compra, lucro_acumulado, 0))\n",
        "\n",
        "for mes in range(1, meses_analise + 1):\n",
        "    if mes == 1:\n",
        "        # Receita de recompra\n",
        "        prob_recompra_mes = prob_recompra_inicial * 100  # Taxa em porcentagem\n",
        "        clientes_recomprando = int(clientes_iniciais * prob_recompra_inicial)\n",
        "        receita_recompra = clientes_recomprando * ticket_recompra\n",
        "        lucro_recompra = receita_recompra * margem_lucro\n",
        "        lucro_total_mes = lucro_recompra\n",
        "\n",
        "    elif 2 <= mes <= 9:\n",
        "        # Todos os clientes iniciais recompra com probabilidade de 100%\n",
        "        prob_recompra_mes = 100  # Taxa em porcentagem\n",
        "        clientes_recomprando = clientes_iniciais  # Todos os clientes do mês zero recompra\n",
        "        receita_recompra = clientes_recomprando * ticket_recompra\n",
        "        lucro_total_mes = receita_recompra * margem_lucro\n",
        "\n",
        "    else:\n",
        "        # Recompra com probabilidade fixa de 5%\n",
        "        prob_recompra_mes = prob_recompra_fixa * 100  # Taxa em porcentagem\n",
        "        clientes_recomprando = int(clientes_iniciais * prob_recompra_fixa)\n",
        "        receita_recompra = clientes_recomprando * ticket_recompra\n",
        "        lucro_total_mes = receita_recompra * margem_lucro\n",
        "\n",
        "    # Atualiza clientes ativos (assumindo que todos podem recompra)\n",
        "    clientes_ativos = clientes_recomprando\n",
        "\n",
        "    # Atualiza lucro acumulado\n",
        "    lucro_acumulado += lucro_total_mes\n",
        "    lucros_mensais.append((mes, clientes_ativos, lucro_total_mes, lucro_acumulado, prob_recompra_mes))\n",
        "\n",
        "# Exibe os resultados por mês\n",
        "for mes, clientes, lucro_mes, lucro_acum, prob_recompra in lucros_mensais:\n",
        "    print(f\"Mês {mes}: Clientes Ativos = {clientes}, Lucro do mês = R${lucro_mes:.2f}, Lucro acumulado = R${lucro_acum:.2f}, Probabilidade de Recompra = {prob_recompra:.2f}%\")\n",
        "\n"
      ]
    },
    {
      "cell_type": "code",
      "source": [
        "# Cria um DataFrame com os resultados\n",
        "df_resultados = pd.DataFrame(lucros_mensais, columns=['Mês', 'Clientes Ativos', 'Lucro do Mês', 'Lucro Acumulado','Probabilidade de Recompra' ])"
      ],
      "metadata": {
        "id": "wPindGgM0sAz"
      },
      "execution_count": 4,
      "outputs": []
    },
    {
      "cell_type": "code",
      "source": [
        "# Faz o download do arquivo Excel (essa parte funciona no ambiente do Colab)\n",
        "from google.colab import files\n",
        "files.download('resultados.xlsx')"
      ],
      "metadata": {
        "colab": {
          "base_uri": "https://localhost:8080/",
          "height": 34
        },
        "id": "lBrONePs09tP",
        "outputId": "636bf008-af6e-4d8f-8661-013d022f9112"
      },
      "execution_count": 6,
      "outputs": [
        {
          "output_type": "display_data",
          "data": {
            "text/plain": [
              "<IPython.core.display.Javascript object>"
            ],
            "application/javascript": [
              "\n",
              "    async function download(id, filename, size) {\n",
              "      if (!google.colab.kernel.accessAllowed) {\n",
              "        return;\n",
              "      }\n",
              "      const div = document.createElement('div');\n",
              "      const label = document.createElement('label');\n",
              "      label.textContent = `Downloading \"${filename}\": `;\n",
              "      div.appendChild(label);\n",
              "      const progress = document.createElement('progress');\n",
              "      progress.max = size;\n",
              "      div.appendChild(progress);\n",
              "      document.body.appendChild(div);\n",
              "\n",
              "      const buffers = [];\n",
              "      let downloaded = 0;\n",
              "\n",
              "      const channel = await google.colab.kernel.comms.open(id);\n",
              "      // Send a message to notify the kernel that we're ready.\n",
              "      channel.send({})\n",
              "\n",
              "      for await (const message of channel.messages) {\n",
              "        // Send a message to notify the kernel that we're ready.\n",
              "        channel.send({})\n",
              "        if (message.buffers) {\n",
              "          for (const buffer of message.buffers) {\n",
              "            buffers.push(buffer);\n",
              "            downloaded += buffer.byteLength;\n",
              "            progress.value = downloaded;\n",
              "          }\n",
              "        }\n",
              "      }\n",
              "      const blob = new Blob(buffers, {type: 'application/binary'});\n",
              "      const a = document.createElement('a');\n",
              "      a.href = window.URL.createObjectURL(blob);\n",
              "      a.download = filename;\n",
              "      div.appendChild(a);\n",
              "      a.click();\n",
              "      div.remove();\n",
              "    }\n",
              "  "
            ]
          },
          "metadata": {}
        },
        {
          "output_type": "display_data",
          "data": {
            "text/plain": [
              "<IPython.core.display.Javascript object>"
            ],
            "application/javascript": [
              "download(\"download_37085d6b-ad31-4e3f-b440-2e3c21fb0f83\", \"resultados.xlsx\", 5320)"
            ]
          },
          "metadata": {}
        }
      ]
    }
  ]
}